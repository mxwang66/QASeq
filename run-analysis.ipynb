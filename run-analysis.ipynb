{
 "cells": [
  {
   "cell_type": "markdown",
   "metadata": {},
   "source": [
    "## Before starting: \n",
    "### 1. prepare the design spread sheet corresponding to the experiment\n",
    "### 2. create an empty folder for this NGS run\n",
    "### 3. make a copy of this note book inside the run folder\n",
    "### 4. place .fasta.gz files in the \"raw_reads\" folder, under the run folder"
   ]
  },
  {
   "cell_type": "code",
   "execution_count": null,
   "metadata": {},
   "outputs": [],
   "source": [
    "%matplotlib inline\n",
    "\n",
    "# >>>>>>>>>> INPUT >>>>>>>>>>\n",
    "\n",
    "config = {\n",
    "    # e.g., SP5-0515_S53 correspond to \n",
    "    # SP5-0515_S53_L001_R1_001.fastq.gz and SP5-0515_S53_L001_R2_001.fastq.gz\n",
    "    'lib_list': [\n",
    "        'SP5-0515_S53',\n",
    "        'SP6-0515_S54',\n",
    "        'US5-0515_S49',\n",
    "        'US6-0515_S50',\n",
    "        'WR3-0515_S51',\n",
    "        'WR4-0515_S52',\n",
    "    ], \n",
    "\n",
    "    # Sequencing platform\n",
    "    'sequencer': 'MiSeq', # MiSeq or else\n",
    "    \n",
    "    # panel information\n",
    "    'design_file_path': '../Olivar-multi preliminary design 102723-2 formated.xlsx', # path to the design spread sheet\n",
    "    'panel_type': 'legacy', # default: 'legacy'\n",
    "    'total_tube': 1, # number of tubes (primer pools)\n",
    "    \n",
    "    # fastq path format (NOTE: need to change format if merged from multiple lanes)\n",
    "    'r1_path_format': 'raw_reads/%s_L001_R1_001.fastq.gz',  # %s is library name\n",
    "    'r2_path_format': 'raw_reads/%s_L001_R2_001.fastq.gz', \n",
    "    \n",
    "    # output\n",
    "    'verbose': True, # print in notebook\n",
    "    'to_plot': False, # show plots in notebook\n",
    "    'keep_sam': False, # keep sam files\n",
    "    'save_raw_UMI': True, # save UMI grouping file\n",
    "    \n",
    "    # performace\n",
    "    'performace_level': 1, # 1 to use fewer RAM and half of all logic cores, 2 to use more RAM and all cores\n",
    "    # e.g., set to 1 when running on a laptop with hyperthreading, or 2 when running on AWS or workstation\n",
    "    \n",
    "    # function block switches\n",
    "    'BUILD_INDEX': True, # bowtie2 index, homopolymer coordinates, primer head hash table\n",
    "    'TRIM_ALIGN_SWITCH': True, # adapter trim & bowtie2 alignment (necessary for other function blocks)\n",
    "    'UMI_SWITCH': True, # UMI grouping, UMI voting and variant call (need bam files)\n",
    "    'UNIFORMITY_SWITCH': True, # uniformity a nalysis and plots (need bam files)\n",
    "    'DIMER_SWITCH': True, # dimer analysis and plots (need dimer.fastq.gz)\n",
    "    'NS_SWITCH': True # non-specific analysis and plots (need bam files)\n",
    "}\n",
    "\n",
    "# <<<<<<<<<< INPUT <<<<<<<<<<\n",
    "\n",
    "\n",
    "from QASeq import analysis\n",
    "analysis(config)"
   ]
  }
 ],
 "metadata": {
  "language_info": {
   "name": "python"
  }
 },
 "nbformat": 4,
 "nbformat_minor": 2
}
